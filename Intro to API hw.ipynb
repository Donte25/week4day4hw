{
 "cells": [
  {
   "cell_type": "markdown",
   "id": "7196054f",
   "metadata": {},
   "source": [
    "# Working with APIs"
   ]
  },
  {
   "cell_type": "markdown",
   "id": "0547b71e",
   "metadata": {},
   "source": [
    "API stands for Application programming interface<br>\n",
    "APIs are a way for applications to talk to eachother<br>\n",
    "In python we use the requests package to handle the connection<br>\n",
    "<small><strong>Note: It is requests with an s not request(this is a different package)</strong></small><br>\n",
    "Most API's communicate with data in the form of JSON<br>\n",
    "JSON stands for JavaScript Object Notation"
   ]
  },
  {
   "cell_type": "code",
   "execution_count": 5,
   "id": "4db9d154",
   "metadata": {
    "tags": []
   },
   "outputs": [],
   "source": [
    "#import the packages we need:\n",
    "import requests as r"
   ]
  },
  {
   "cell_type": "markdown",
   "id": "e8c2ce51",
   "metadata": {},
   "source": [
    "We will be connecting to the Ergast F1 Racer API today:\n",
    "http://ergast.com/mrd/\n",
    "\n",
    "to view JSON data nicely in the Chrome browser install the extension JSONview"
   ]
  },
  {
   "cell_type": "code",
   "execution_count": null,
   "id": "52c440c6",
   "metadata": {},
   "outputs": [],
   "source": []
  },
  {
   "cell_type": "code",
   "execution_count": null,
   "id": "f60c1b4a",
   "metadata": {},
   "outputs": [],
   "source": []
  },
  {
   "cell_type": "code",
   "execution_count": 2,
   "id": "7b63a204",
   "metadata": {},
   "outputs": [],
   "source": [
    "#response object\n"
   ]
  },
  {
   "cell_type": "code",
   "execution_count": 3,
   "id": "c6d1fdaf",
   "metadata": {},
   "outputs": [],
   "source": [
    "#check and make sure we got a successful response from the API\n",
    "\n",
    "\n",
    "\n"
   ]
  },
  {
   "cell_type": "code",
   "execution_count": 7,
   "id": "ed4d3256",
   "metadata": {
    "tags": []
   },
   "outputs": [
    {
     "ename": "NameError",
     "evalue": "name 'result' is not defined",
     "output_type": "error",
     "traceback": [
      "\u001b[1;31m---------------------------------------------------------------------------\u001b[0m",
      "\u001b[1;31mNameError\u001b[0m                                 Traceback (most recent call last)",
      "Cell \u001b[1;32mIn[7], line 2\u001b[0m\n\u001b[0;32m      1\u001b[0m \u001b[38;5;66;03m#view the response as a JSON\u001b[39;00m\n\u001b[1;32m----> 2\u001b[0m data \u001b[38;5;241m=\u001b[39m \u001b[43mresult\u001b[49m\u001b[38;5;241m.\u001b[39mjson()\n\u001b[0;32m      3\u001b[0m standings \u001b[38;5;241m=\u001b[39m data[\u001b[38;5;124m'\u001b[39m\u001b[38;5;124mMRData\u001b[39m\u001b[38;5;124m'\u001b[39m][\u001b[38;5;124m'\u001b[39m\u001b[38;5;124mStandingsTable\u001b[39m\u001b[38;5;124m'\u001b[39m][\u001b[38;5;124m'\u001b[39m\u001b[38;5;124mStandingsLists\u001b[39m\u001b[38;5;124m'\u001b[39m][\u001b[38;5;241m0\u001b[39m][\u001b[38;5;124m'\u001b[39m\u001b[38;5;124mDriverStandings\u001b[39m\u001b[38;5;124m'\u001b[39m]\n\u001b[0;32m      4\u001b[0m \u001b[38;5;28;01mfor\u001b[39;00m person \u001b[38;5;129;01min\u001b[39;00m standings:\n",
      "\u001b[1;31mNameError\u001b[0m: name 'result' is not defined"
     ]
    }
   ],
   "source": [
    "#view the response as a JSON\n",
    "data = result.json()\n",
    "standings = data['MRData']['StandingsTable']['StandingsLists'][0]['DriverStandings']\n",
    "for person in standings:\n",
    "    \n",
    "    name = f'{person[\"Driver\"][\"givenName\"]} {person[\"Driver\"][\"familyName\"]}'\n",
    "    car = person['Constructs'][0]['name']\n",
    "    position = person['position']\n",
    "    \n",
    "    string = f'{name} was driving a {car} and came in position {position}'\n",
    "    \n",
    "    print(string)\n"
   ]
  },
  {
   "cell_type": "code",
   "execution_count": null,
   "id": "92e6cd2c",
   "metadata": {},
   "outputs": [],
   "source": []
  },
  {
   "cell_type": "code",
   "execution_count": 5,
   "id": "f074dfcf",
   "metadata": {},
   "outputs": [],
   "source": [
    "# We only want the Driver Standings\n"
   ]
  },
  {
   "cell_type": "code",
   "execution_count": null,
   "id": "be46a950",
   "metadata": {},
   "outputs": [],
   "source": []
  },
  {
   "cell_type": "code",
   "execution_count": null,
   "id": "3740c752",
   "metadata": {},
   "outputs": [],
   "source": []
  },
  {
   "cell_type": "markdown",
   "id": "6d546014",
   "metadata": {},
   "source": [
    "# <strong>Homework</strong>\n",
    "check out this Pokemon API https://pokeapi.co/\n",
    "Use the requests package to connect to this API and get and store data for 5 different pokemon.\n",
    "Get the pokemons: name, atleast one ability's name, base_experience, and the URL for its sprite (an image that shows up on screen) for the 'front_shiny', attack base_state, hp base_stat, defense base_stat"
   ]
  },
  {
   "cell_type": "code",
   "execution_count": 20,
   "id": "5a9081e3",
   "metadata": {
    "tags": []
   },
   "outputs": [
    {
     "ename": "NameError",
     "evalue": "name 'pikachu' is not defined",
     "output_type": "error",
     "traceback": [
      "\u001b[1;31m---------------------------------------------------------------------------\u001b[0m",
      "\u001b[1;31mNameError\u001b[0m                                 Traceback (most recent call last)",
      "Cell \u001b[1;32mIn[20], line 16\u001b[0m\n\u001b[0;32m      7\u001b[0m     output \u001b[38;5;241m=\u001b[39m {\n\u001b[0;32m      8\u001b[0m         \u001b[38;5;124m'\u001b[39m\u001b[38;5;124mname\u001b[39m\u001b[38;5;124m'\u001b[39m: data[\u001b[38;5;124m'\u001b[39m\u001b[38;5;124mspecies\u001b[39m\u001b[38;5;124m'\u001b[39m][\u001b[38;5;241m0\u001b[39m],\n\u001b[0;32m      9\u001b[0m         \u001b[38;5;124m'\u001b[39m\u001b[38;5;124mability-name\u001b[39m\u001b[38;5;124m'\u001b[39m: \u001b[38;5;124m'\u001b[39m\u001b[38;5;124m'\u001b[39m,\n\u001b[1;32m   (...)\u001b[0m\n\u001b[0;32m     13\u001b[0m         \u001b[38;5;124m'\u001b[39m\u001b[38;5;124mdefense\u001b[39m\u001b[38;5;124m'\u001b[39m : \u001b[38;5;124m'\u001b[39m\u001b[38;5;124m'\u001b[39m,\n\u001b[0;32m     14\u001b[0m      }\n\u001b[0;32m     15\u001b[0m     \u001b[38;5;28;01mreturn\u001b[39;00m output \n\u001b[1;32m---> 16\u001b[0m get_pokemon(\u001b[43mpikachu\u001b[49m)\n",
      "\u001b[1;31mNameError\u001b[0m: name 'pikachu' is not defined"
     ]
    }
   ],
   "source": [
    "def get_pokemon(pikachu):\n",
    "    url = f\"https://pokeapi.co/api/v2/pokemon/pikachu\"\n",
    "    response = r.get(url)\n",
    "    if response.ok:\n",
    "        data = response.json()\n",
    "        \n",
    "    output = {\n",
    "        'pokemon_name': data{'species'}['name'],\n",
    "        'ability-name': data['abilities'][0]['ability']['name'],\n",
    "        'image_url': data{'sprites'}[0],\n",
    "        'attack': data['stats'][1]['base_stat'],\n",
    "        'hp': data['stats'][0]['base_stat'],\n",
    "        'defense': data['stats'][2]['base_stat'],\n",
    "    return output \n",
    "\n",
    "get_pokemon(pikachu)\n",
    "        \n",
    "def get_pokemon(bulbasaur):\n",
    "    url = f\"https://pokeapi.co/api/v2/pokemon/bulbasaur\"\n",
    "    response = r.get(url)\n",
    "    if response.ok:\n",
    "        data = response.json()\n",
    "        \n",
    "    output = {\n",
    "        'pokemon_name': data{'species'}['name'],\n",
    "        'ability-name': data['abilities'][0]['ability']['name'],\n",
    "        'image_url': data{'sprites'}[0],\n",
    "        'attack': data['stats'][1]['base_stat'],\n",
    "        'hp': data['stats'][0]['base_stat'],\n",
    "        'defense': data['stats'][2]['base_stat'],\n",
    "    return output \n",
    "\n",
    "get_pokemon(bulbasaur)\n",
    "\n",
    "def get_pokemon(squirtle):\n",
    "    url = f\"https://pokeapi.co/api/v2/pokemon/squirtle\"\n",
    "    response = r.get(url)\n",
    "    if response.ok:\n",
    "        data = response.json()\n",
    "        \n",
    "    output = {\n",
    "        'pokemon_name': data{'species'}['name'],\n",
    "        'ability-name': data['abilities'][0]['ability']['name'],\n",
    "        'image_url': data{'sprites'}[0],\n",
    "        'attack': data['stats'][1]['base_stat'],\n",
    "        'hp': data['stats'][0]['base_stat'],\n",
    "        'defense': data['stats'][2]['base_stat'],\n",
    "    return output \n",
    "\n",
    "get_pokemon(squirtle)\n",
    "\n",
    "def get_pokemon(charmander):\n",
    "    url = f\"https://pokeapi.co/api/v2/pokemon/charmander\"\n",
    "    response = r.get(url)\n",
    "    if response.ok:\n",
    "        data = response.json()\n",
    "        \n",
    "    output = {\n",
    "        'pokemon_name': data{'species'}['name'],\n",
    "        'ability-name': data['abilities'][0]['ability']['name'],\n",
    "        'image_url': data{'sprites'}[0],\n",
    "        'attack': data['stats'][1]['base_stat'],\n",
    "        'hp': data['stats'][0]['base_stat'],\n",
    "        'defense': data['stats'][2]['base_stat'],\n",
    "    return output \n",
    "\n",
    "get_pokemon(charmander)\n",
    "\n",
    "def get_pokemon(mew):\n",
    "    url = f\"https://pokeapi.co/api/v2/pokemon/mew\"\n",
    "    response = r.get(url)\n",
    "    if response.ok:\n",
    "        data = response.json()\n",
    "        \n",
    "    output = {\n",
    "        'pokemon_name': data{'species'}['name'],\n",
    "        'ability-name': data['abilities'][0]['ability']['name'],\n",
    "        'image_url': data{'sprites'}[0],\n",
    "        'attack': data['stats'][1]['base_stat'],\n",
    "        'hp': data['stats'][0]['base_stat'],\n",
    "        'defense': data['stats'][2]['base_stat'],\n",
    "    return output \n",
    "\n",
    "get_pokemon(mew)"
   ]
  }
 ],
 "metadata": {
  "kernelspec": {
   "display_name": "Python 3 (ipykernel)",
   "language": "python",
   "name": "python3"
  },
  "language_info": {
   "codemirror_mode": {
    "name": "ipython",
    "version": 3
   },
   "file_extension": ".py",
   "mimetype": "text/x-python",
   "name": "python",
   "nbconvert_exporter": "python",
   "pygments_lexer": "ipython3",
   "version": "3.11.4"
  }
 },
 "nbformat": 4,
 "nbformat_minor": 5
}
